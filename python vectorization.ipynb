{
 "cells": [
  {
   "cell_type": "code",
   "execution_count": 1,
   "id": "638549ab",
   "metadata": {},
   "outputs": [],
   "source": [
    "import numpy as np\n",
    "\n",
    "#initialize an array with zeros\n",
    "d = np.zeros(5)\n"
   ]
  },
  {
   "cell_type": "code",
   "execution_count": 2,
   "id": "05117abd",
   "metadata": {},
   "outputs": [
    {
     "name": "stdout",
     "output_type": "stream",
     "text": [
      "[[ 5  6  9  8]\n",
      " [ 9  5  3  1]\n",
      " [63 63 35 52]]\n"
     ]
    }
   ],
   "source": [
    "#broadcasting\n",
    "\n",
    "A = np.array([[5,6,9,8],\n",
    "             [9,5,3,1],\n",
    "             [63,63,35,52]])\n",
    "\n",
    "print(A)"
   ]
  },
  {
   "cell_type": "code",
   "execution_count": 3,
   "id": "56cb8ab4",
   "metadata": {},
   "outputs": [
    {
     "name": "stdout",
     "output_type": "stream",
     "text": [
      "[77 74 47 61]\n"
     ]
    }
   ],
   "source": [
    "calories = A.sum(axis=0)\n",
    "print(calories)"
   ]
  },
  {
   "cell_type": "code",
   "execution_count": 11,
   "id": "668570e9",
   "metadata": {},
   "outputs": [
    {
     "name": "stdout",
     "output_type": "stream",
     "text": [
      "[[ 6.49350649  8.10810811 19.14893617 13.1147541 ]\n",
      " [11.68831169  6.75675676  6.38297872  1.63934426]\n",
      " [81.81818182 85.13513514 74.46808511 85.24590164]]\n"
     ]
    }
   ],
   "source": [
    "percentage = 100 * A/calories.reshape(1,4)\n",
    "print(percentage)"
   ]
  }
 ],
 "metadata": {
  "kernelspec": {
   "display_name": "Python 3",
   "language": "python",
   "name": "python3"
  },
  "language_info": {
   "codemirror_mode": {
    "name": "ipython",
    "version": 3
   },
   "file_extension": ".py",
   "mimetype": "text/x-python",
   "name": "python",
   "nbconvert_exporter": "python",
   "pygments_lexer": "ipython3",
   "version": "3.10.2"
  },
  "vscode": {
   "interpreter": {
    "hash": "369f2c481f4da34e4445cda3fffd2e751bd1c4d706f27375911949ba6bb62e1c"
   }
  }
 },
 "nbformat": 4,
 "nbformat_minor": 5
}
